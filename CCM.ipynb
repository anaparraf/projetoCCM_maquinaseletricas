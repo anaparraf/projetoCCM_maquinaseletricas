{
 "cells": [
  {
   "cell_type": "markdown",
   "metadata": {},
   "source": [
    "Abrindo portas seriais\n"
   ]
  },
  {
   "cell_type": "code",
   "execution_count": 8,
   "metadata": {},
   "outputs": [
    {
     "name": "stdout",
     "output_type": "stream",
     "text": [
      "COM13: STMicroelectronics STLink Virtual COM Port (COM13)\n",
      "\n"
     ]
    }
   ],
   "source": [
    "from serial.tools import list_ports\n",
    "\n",
    "serial_ports = list_ports.comports()\n",
    "for port, desc, _ in sorted(serial_ports):\n",
    "    print(\"{}: {}\\n\".format(port, desc))"
   ]
  },
  {
   "cell_type": "code",
   "execution_count": 9,
   "metadata": {},
   "outputs": [],
   "source": [
    "# import serial\n",
    "# PortaSerial1 = \"COM10\" # configurar no 1º código sua porta serial // motor de passo\n",
    "# PortaSerial2= \"COM14\" # configurar no 2º código sua porta serial  // motor brushless\n",
    "\n",
    "# Ser = serial.Serial(PortaSerial1, 115200)\n",
    "# print(\"\"\"\n",
    "# Projeto CCM\n",
    "# \"\"\")\n",
    "# while True:\n",
    "#     StringEnviar = input(\"\")\n",
    "#     Ser.write(bytes(StringEnviar, \"utf-8\"))"
   ]
  },
  {
   "cell_type": "code",
   "execution_count": 10,
   "metadata": {},
   "outputs": [
    {
     "ename": "SerialException",
     "evalue": "could not open port 'COM10': FileNotFoundError(2, 'O sistema não pode encontrar o arquivo especificado.', None, 2)",
     "output_type": "error",
     "traceback": [
      "\u001b[1;31m---------------------------------------------------------------------------\u001b[0m",
      "\u001b[1;31mSerialException\u001b[0m                           Traceback (most recent call last)",
      "Cell \u001b[1;32mIn[10], line 10\u001b[0m\n\u001b[0;32m      7\u001b[0m PortaSerial1 \u001b[38;5;241m=\u001b[39m \u001b[38;5;124m\"\u001b[39m\u001b[38;5;124mCOM10\u001b[39m\u001b[38;5;124m\"\u001b[39m \u001b[38;5;66;03m#motor de passo\u001b[39;00m\n\u001b[0;32m      8\u001b[0m PortaSerial2 \u001b[38;5;241m=\u001b[39m \u001b[38;5;124m\"\u001b[39m\u001b[38;5;124mCOM14\u001b[39m\u001b[38;5;124m\"\u001b[39m \u001b[38;5;66;03m# BLDC \u001b[39;00m\n\u001b[1;32m---> 10\u001b[0m Ser1 \u001b[38;5;241m=\u001b[39m \u001b[43mserial\u001b[49m\u001b[38;5;241;43m.\u001b[39;49m\u001b[43mSerial\u001b[49m\u001b[43m(\u001b[49m\u001b[43mPortaSerial1\u001b[49m\u001b[43m,\u001b[49m\u001b[43m \u001b[49m\u001b[38;5;241;43m115200\u001b[39;49m\u001b[43m)\u001b[49m\n\u001b[0;32m     11\u001b[0m Ser2 \u001b[38;5;241m=\u001b[39m serial\u001b[38;5;241m.\u001b[39mSerial(PortaSerial2, \u001b[38;5;241m115200\u001b[39m)\n\u001b[0;32m     14\u001b[0m \u001b[38;5;124;03m\"\"\"\u001b[39;00m\n\u001b[0;32m     15\u001b[0m \u001b[38;5;124;03mMotor de passo\u001b[39;00m\n\u001b[0;32m     16\u001b[0m \u001b[38;5;124;03m\"\"\"\u001b[39;00m\n",
      "File \u001b[1;32mc:\\Users\\anapa\\AppData\\Local\\Programs\\Python\\Python311\\Lib\\site-packages\\serial\\serialwin32.py:33\u001b[0m, in \u001b[0;36mSerial.__init__\u001b[1;34m(self, *args, **kwargs)\u001b[0m\n\u001b[0;32m     31\u001b[0m \u001b[38;5;28mself\u001b[39m\u001b[38;5;241m.\u001b[39m_overlapped_read \u001b[38;5;241m=\u001b[39m \u001b[38;5;28;01mNone\u001b[39;00m\n\u001b[0;32m     32\u001b[0m \u001b[38;5;28mself\u001b[39m\u001b[38;5;241m.\u001b[39m_overlapped_write \u001b[38;5;241m=\u001b[39m \u001b[38;5;28;01mNone\u001b[39;00m\n\u001b[1;32m---> 33\u001b[0m \u001b[38;5;28;43msuper\u001b[39;49m\u001b[43m(\u001b[49m\u001b[43mSerial\u001b[49m\u001b[43m,\u001b[49m\u001b[43m \u001b[49m\u001b[38;5;28;43mself\u001b[39;49m\u001b[43m)\u001b[49m\u001b[38;5;241;43m.\u001b[39;49m\u001b[38;5;21;43m__init__\u001b[39;49m\u001b[43m(\u001b[49m\u001b[38;5;241;43m*\u001b[39;49m\u001b[43margs\u001b[49m\u001b[43m,\u001b[49m\u001b[43m \u001b[49m\u001b[38;5;241;43m*\u001b[39;49m\u001b[38;5;241;43m*\u001b[39;49m\u001b[43mkwargs\u001b[49m\u001b[43m)\u001b[49m\n",
      "File \u001b[1;32mc:\\Users\\anapa\\AppData\\Local\\Programs\\Python\\Python311\\Lib\\site-packages\\serial\\serialutil.py:244\u001b[0m, in \u001b[0;36mSerialBase.__init__\u001b[1;34m(self, port, baudrate, bytesize, parity, stopbits, timeout, xonxoff, rtscts, write_timeout, dsrdtr, inter_byte_timeout, exclusive, **kwargs)\u001b[0m\n\u001b[0;32m    241\u001b[0m     \u001b[38;5;28;01mraise\u001b[39;00m \u001b[38;5;167;01mValueError\u001b[39;00m(\u001b[38;5;124m'\u001b[39m\u001b[38;5;124munexpected keyword arguments: \u001b[39m\u001b[38;5;132;01m{!r}\u001b[39;00m\u001b[38;5;124m'\u001b[39m\u001b[38;5;241m.\u001b[39mformat(kwargs))\n\u001b[0;32m    243\u001b[0m \u001b[38;5;28;01mif\u001b[39;00m port \u001b[38;5;129;01mis\u001b[39;00m \u001b[38;5;129;01mnot\u001b[39;00m \u001b[38;5;28;01mNone\u001b[39;00m:\n\u001b[1;32m--> 244\u001b[0m     \u001b[38;5;28;43mself\u001b[39;49m\u001b[38;5;241;43m.\u001b[39;49m\u001b[43mopen\u001b[49m\u001b[43m(\u001b[49m\u001b[43m)\u001b[49m\n",
      "File \u001b[1;32mc:\\Users\\anapa\\AppData\\Local\\Programs\\Python\\Python311\\Lib\\site-packages\\serial\\serialwin32.py:64\u001b[0m, in \u001b[0;36mSerial.open\u001b[1;34m(self)\u001b[0m\n\u001b[0;32m     62\u001b[0m \u001b[38;5;28;01mif\u001b[39;00m \u001b[38;5;28mself\u001b[39m\u001b[38;5;241m.\u001b[39m_port_handle \u001b[38;5;241m==\u001b[39m win32\u001b[38;5;241m.\u001b[39mINVALID_HANDLE_VALUE:\n\u001b[0;32m     63\u001b[0m     \u001b[38;5;28mself\u001b[39m\u001b[38;5;241m.\u001b[39m_port_handle \u001b[38;5;241m=\u001b[39m \u001b[38;5;28;01mNone\u001b[39;00m    \u001b[38;5;66;03m# 'cause __del__ is called anyway\u001b[39;00m\n\u001b[1;32m---> 64\u001b[0m     \u001b[38;5;28;01mraise\u001b[39;00m SerialException(\u001b[38;5;124m\"\u001b[39m\u001b[38;5;124mcould not open port \u001b[39m\u001b[38;5;132;01m{!r}\u001b[39;00m\u001b[38;5;124m: \u001b[39m\u001b[38;5;132;01m{!r}\u001b[39;00m\u001b[38;5;124m\"\u001b[39m\u001b[38;5;241m.\u001b[39mformat(\u001b[38;5;28mself\u001b[39m\u001b[38;5;241m.\u001b[39mportstr, ctypes\u001b[38;5;241m.\u001b[39mWinError()))\n\u001b[0;32m     66\u001b[0m \u001b[38;5;28;01mtry\u001b[39;00m:\n\u001b[0;32m     67\u001b[0m     \u001b[38;5;28mself\u001b[39m\u001b[38;5;241m.\u001b[39m_overlapped_read \u001b[38;5;241m=\u001b[39m win32\u001b[38;5;241m.\u001b[39mOVERLAPPED()\n",
      "\u001b[1;31mSerialException\u001b[0m: could not open port 'COM10': FileNotFoundError(2, 'O sistema não pode encontrar o arquivo especificado.', None, 2)"
     ]
    }
   ],
   "source": [
    "# Imports necessários para\n",
    "import sys\n",
    "from PyQt5.QtWidgets import QApplication, QMainWindow, QPushButton, QDial, QVBoxLayout, QWidget, QLabel\n",
    "import serial\n",
    "\n",
    "## Insira aqui a porta COM encontrada no programa anterior\n",
    "PortaSerial1 = \"COM10\" #motor de passo\n",
    "PortaSerial2 = \"COM14\" # BLDC \n",
    "\n",
    "Ser1 = serial.Serial(PortaSerial1, 115200)\n",
    "Ser2 = serial.Serial(PortaSerial2, 115200)\n",
    "\n",
    "\n",
    "\"\"\"\n",
    "Motor de passo\n",
    "\"\"\"\n",
    "\n",
    "class TelaPrincipalCCM(QMainWindow):\n",
    "    def __init__(self):\n",
    "        super().__init__()\n",
    "        # Definindo as dimensões da tela principal\n",
    "        self.setGeometry(100, 100, 500, 400)\n",
    "        # Definindo qual o título que aparecerá em nossa tela\n",
    "        self.setWindowTitle(\"Centro de Controle de Motor\")\n",
    "        # Função que irá inicializar os widgets na tela\n",
    "        self.InicializarMotorPasso()\n",
    "        self.InicializarMotorBrushless()\n",
    "\n",
    "      \n",
    "\n",
    "    def InicializarMotorPasso(self):\n",
    "        ## Criando um elemento Botão para ligar e desligar o motor\n",
    "        self.But_Toggle_Motor = QPushButton(text=\"Ligar o motor\")\n",
    "        # Definir que o botão é do tipo Toggle, ou seja, podemos clicar e ele mantém seu valor\n",
    "        self.But_Toggle_Motor.setCheckable(True)\n",
    "        # Definindo que quando o botão for clicado vamos rodar a função ToggleMotor\n",
    "        self.But_Toggle_Motor.clicked.connect(self.ToggleMotor)\n",
    "        ## Criando um elemento Dial que controla a velocidade do motor\n",
    "        self.knob = QDial()\n",
    "        # Definindo que quando o dial mudar de valor vamos rodar a função SendSerial\n",
    "        self.knob.valueChanged.connect(self.SendSerial)\n",
    "        # Insere os items de forma vertical na tela\n",
    "        layout = QVBoxLayout()\n",
    "        widget = QWidget()\n",
    "        layout.addWidget(self.But_Toggle_Motor)\n",
    "        layout.addWidget(self.knob)\n",
    "        widget.setLayout(layout)\n",
    "        self.setCentralWidget(widget)\n",
    "\n",
    "    def ToggleMotor(self, Clicado):\n",
    "        if Clicado:\n",
    "            Ser1.write(b\"A\") # Ligar o LED\n",
    "            Ser1.write(bytes(str(int(self.knob.value()/10)), \"utf-8\"))\n",
    "            self.But_Toggle_Motor.setText(\"Desligar o motor\")\n",
    "            print(\"ligando\")\n",
    "        else:\n",
    "            Ser1.write(b\"a\") # Desligar o LED\n",
    "            self.But_Toggle_Motor.setText(\"Ligar o motor\")\n",
    "            print(\"desligando\")\n",
    "    def SendSerial(self, value):\n",
    "        Ser1.write(bytes(str(int(value/10)), \"utf-8\"))\n",
    "\n",
    "\n",
    "\n",
    "    \"\"\"\n",
    "    Motor brushless\n",
    "    \"\"\"\n",
    "\n",
    "    def InicializarMotorBrushless(self):\n",
    "        ## Criando um elemento Botão para ligar e desligar o motor\n",
    "        self.But_Toggle_Motor = QPushButton(text=\"Ligar o motor\")\n",
    "        # Definir que o botão é do tipo Toggle, ou seja, podemos clicar e ele mantém seu valor\n",
    "        self.But_Toggle_Motor.setCheckable(True)\n",
    "        # Definindo que quando o botão for clicado vamos rodar a função ToggleMotor\n",
    "        self.But_Toggle_Motor.clicked.connect(self.ToggleMotor)\n",
    "        ## Criando um elemento Dial que controla a velocidade do motor\n",
    "        self.knob = QDial()\n",
    "        # Definindo que quando o dial mudar de valor vamos rodar a função SendSerial\n",
    "        self.knob.valueChanged.connect(self.SendSerial)\n",
    "        # Insere os items de forma vertical na tela\n",
    "        layout = QVBoxLayout()\n",
    "        widget = QWidget()\n",
    "        layout.addWidget(self.But_Toggle_Motor)\n",
    "        layout.addWidget(self.knob)\n",
    "        widget.setLayout(layout)\n",
    "        self.setCentralWidget(widget)\n",
    "\n",
    "    def ToggleMotor(self, Clicado):\n",
    "        if Clicado:\n",
    "            Ser2.write(b\"A\") # Ligar o LED\n",
    "            Ser2.write(bytes(str(int(self.knob.value()/10)), \"utf-8\"))\n",
    "            self.But_Toggle_Motor.setText(\"Desligar o motor\")\n",
    "            print(\"ligando\")\n",
    "        else:\n",
    "            Ser2.write(b\"a\") # Desligar o LED\n",
    "            self.But_Toggle_Motor.setText(\"Ligar o motor\")\n",
    "            print(\"desligando\")\n",
    "    def SendSerial(self, value):\n",
    "        Ser2.write(bytes(str(int(value/10)), \"utf-8\"))\n",
    "\n",
    "\n",
    "\n",
    "# Parte que inicia a tela conforme o que é descrito no __init__\n",
    "app = QApplication(sys.argv)\n",
    "window = TelaPrincipalCCM()\n",
    "window.show()\n",
    "app.exec()"
   ]
  },
  {
   "cell_type": "code",
   "execution_count": null,
   "metadata": {},
   "outputs": [],
   "source": [
    "\n",
    "\n",
    "\n"
   ]
  },
  {
   "cell_type": "code",
   "execution_count": null,
   "metadata": {},
   "outputs": [],
   "source": []
  }
 ],
 "metadata": {
  "kernelspec": {
   "display_name": "Python 3",
   "language": "python",
   "name": "python3"
  },
  "language_info": {
   "codemirror_mode": {
    "name": "ipython",
    "version": 3
   },
   "file_extension": ".py",
   "mimetype": "text/x-python",
   "name": "python",
   "nbconvert_exporter": "python",
   "pygments_lexer": "ipython3",
   "version": "3.11.4"
  }
 },
 "nbformat": 4,
 "nbformat_minor": 2
}
